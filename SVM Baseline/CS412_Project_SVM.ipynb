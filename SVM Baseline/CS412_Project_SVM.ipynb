{
  "cells": [
    {
      "cell_type": "code",
      "execution_count": null,
      "metadata": {
        "colab": {
          "base_uri": "https://localhost:8080/"
        },
        "id": "MfU9EAdDmWcC",
        "outputId": "a514e003-7d25-4b2f-ca14-89c3ef8a86b6"
      },
      "outputs": [
        {
          "name": "stdout",
          "output_type": "stream",
          "text": [
            "C=0.32, F1 on val: 0.9139944956477215\n",
            "C=0.34, F1 on val: 0.9139951622278754\n",
            "C=0.36, F1 on val: 0.9157472143922759\n",
            "C=0.38, F1 on val: 0.9164979124478112\n",
            "C=0.4, F1 on val: 0.9157480990664852\n",
            "C=0.42, F1 on val: 0.9152484691754744\n",
            "C=0.44, F1 on val: 0.9152484691754744\n",
            "C=0.46, F1 on val: 0.9154978874471861\n",
            "C=0.48, F1 on val: 0.9152476640137392\n",
            "C=0.5, F1 on val: 0.9154978874471861\n",
            "\n",
            "✅ Best C based on validation set: 0.38\n",
            "\n",
            "📊 Classification Report on Test Set:\n",
            "              precision    recall  f1-score   support\n",
            "\n",
            "           0       0.91      0.92      0.92      2000\n",
            "           1       0.92      0.91      0.91      2000\n",
            "\n",
            "    accuracy                           0.92      4000\n",
            "   macro avg       0.92      0.92      0.91      4000\n",
            "weighted avg       0.92      0.92      0.91      4000\n",
            "\n"
          ]
        }
      ],
      "source": [
        "import numpy as np\n",
        "import os\n",
        "from sklearn.svm import LinearSVC\n",
        "from sklearn.feature_extraction.text import TfidfVectorizer\n",
        "from sklearn.model_selection import train_test_split, GridSearchCV\n",
        "from sklearn.pipeline import Pipeline\n",
        "from sklearn.metrics import classification_report, f1_score\n",
        "\n",
        "def load_split_data(split_dir):\n",
        "    texts = []\n",
        "    labels = []\n",
        "\n",
        "    for label_name, label_val in [('pos', 1), ('neg', 0)]:\n",
        "        dir_path = os.path.join(split_dir, label_name)\n",
        "        for filename in os.listdir(dir_path):\n",
        "            file_path = os.path.join(dir_path, filename)\n",
        "            with open(file_path, 'r', encoding='utf-8') as f:\n",
        "                texts.append(f.read())\n",
        "                labels.append(label_val)\n",
        "\n",
        "    return texts, labels\n",
        "\n",
        "X_train, y_train = load_split_data('data/train')\n",
        "X_val, y_val     = load_split_data('data/val')\n",
        "X_test, y_test   = load_split_data('data/dev')\n",
        "\n",
        "# Candidate Hyperparameters \"C\"\n",
        "#C_values = [0.01, 0.1, 1, 10, 100]\n",
        "#C_values = [0.09, 0.1, 0.2, 0.3, 0.4, 0.5, 0.6, 0.7, 0.8, 0.9]\n",
        "C_values = [0.32, 0.34, 0.36, 0.38, 0.4, 0.42, 0.44, 0.46, 0.48, 0.5]\n",
        "\n",
        "# Track best model and score\n",
        "best_C = None\n",
        "best_f1 = -1\n",
        "best_model = None\n",
        "\n",
        "# 1–4. Try each C, train on train set, evaluate on validation set\n",
        "for C in C_values:\n",
        "    pipeline = Pipeline([\n",
        "        ('tfidf', TfidfVectorizer()),\n",
        "        ('svm', LinearSVC(C=C, dual=False))\n",
        "    ])\n",
        "    pipeline.fit(X_train, y_train)\n",
        "    y_val_pred = pipeline.predict(X_val)\n",
        "    f1 = f1_score(y_val, y_val_pred, average='macro')  # or 'weighted'\n",
        "\n",
        "    print(\"C=\" + str(C) + \", F1 on val: \" + str(f1))\n",
        "    \n",
        "    if f1 > best_f1:\n",
        "        best_f1 = f1\n",
        "        best_C = C\n",
        "        best_model = pipeline  # Save best model temporarily\n",
        "\n",
        "print(\"\\n\")\n",
        "print(\"Best C based on validation set:\", best_C)\n",
        "\n",
        "# 5. Retrain on full train + val set using best_C\n",
        "X_full_train = X_train + X_val\n",
        "y_full_train = y_train + y_val\n",
        "\n",
        "final_pipeline = Pipeline([\n",
        "    ('tfidf', TfidfVectorizer()),\n",
        "    ('svm', LinearSVC(C=best_C, dual=False))\n",
        "])\n",
        "final_pipeline.fit(X_full_train, y_full_train)\n",
        "\n",
        "# Final test evaluation\n",
        "y_test_pred = final_pipeline.predict(X_test)\n",
        "print(\"\\n\")\n",
        "print(\"Classification Report on Test Set:\")\n",
        "print(classification_report(y_test, y_test_pred))"
      ]
    }
  ],
  "metadata": {
    "colab": {
      "provenance": []
    },
    "kernelspec": {
      "display_name": "Python 3",
      "name": "python3"
    },
    "language_info": {
      "codemirror_mode": {
        "name": "ipython",
        "version": 3
      },
      "file_extension": ".py",
      "mimetype": "text/x-python",
      "name": "python",
      "nbconvert_exporter": "python",
      "pygments_lexer": "ipython3",
      "version": "3.8.10"
    }
  },
  "nbformat": 4,
  "nbformat_minor": 0
}
